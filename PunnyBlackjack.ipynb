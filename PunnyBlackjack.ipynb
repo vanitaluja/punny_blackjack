{
 "cells": [
  {
   "cell_type": "markdown",
   "metadata": {},
   "source": [
    "# Vani's Punny Blackjack"
   ]
  },
  {
   "cell_type": "markdown",
   "metadata": {},
   "source": [
    "One of my closest friends is obsessed with computer games. He is a compsci major, so I asked him for ideas that would be fun to code for this project. He gave the the helpful answer of \"I dunno dude,\" and continued to play his computer game. Despite his answer, he inspired me anyways because for my project I decided to design a type of game. I really like puns, so I thought I would make a game involving one-liner jokes. I recently learned the cardgame blackjack and I honestly find the game rather dull, so I thought combining a pun generator and the card game would make a fun and feasible project for someone with limited coding knowledge.\n",
    "    \n",
    "So, this game is a simple version of the classic blackjack with the only major twist being the assignment of a certain pun to the total value of the cards in the players' hands. I assumed many people have tried to recreate the game, so I challenged myself to avoid looking at online sources and try to code the whole thing from scratch. Other than the imported random function and one loop noted in the comments, I succeeded in writing all of the code without any external reference other than my lecture notes. While the game is still relatively dull, I at least enjoyed the challenge of coding it, and I hope you enjoy playing!"
   ]
  },
  {
   "cell_type": "markdown",
   "metadata": {},
   "source": [
    "## Project Code"
   ]
  },
  {
   "cell_type": "code",
   "execution_count": null,
   "metadata": {},
   "outputs": [],
   "source": [
    "import script.my_script\n",
    "!python my_script.py"
   ]
  }
 ],
 "metadata": {
  "kernelspec": {
   "display_name": "Python 3",
   "language": "python",
   "name": "python3"
  },
  "language_info": {
   "codemirror_mode": {
    "name": "ipython",
    "version": 3
   },
   "file_extension": ".py",
   "mimetype": "text/x-python",
   "name": "python",
   "nbconvert_exporter": "python",
   "pygments_lexer": "ipython3",
   "version": "3.6.7"
  }
 },
 "nbformat": 4,
 "nbformat_minor": 2
}
